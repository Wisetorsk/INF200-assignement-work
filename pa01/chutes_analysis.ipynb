{
 "cells": [
  {
   "cell_type": "code",
   "execution_count": 19,
   "metadata": {
    "collapsed": true
   },
   "outputs": [],
   "source": [
    "%matplotlib inline"
   ]
  },
  {
   "cell_type": "markdown",
   "metadata": {},
   "source": [
    "#Chutes analysis program\n",
    "##Runs the simulation with 1, 2, 3, 4 and 8 players\n",
    "<p><ul>\n",
    "    <li>Accompanying ipython document for Programming assignement 1</li>\n",
    "    <li>Author: Marius Skaug Kristiansen</li>\n",
    "    <li>Email: mariukri@nmbu.no</li>\n",
    "</ul></p>\n",
    "<p>Instead of defining a construct (i.e. a board) i choose to use numerical values to represent wich square the player is on. To store the data for each player i use a list where the list index represents the player number and the players data is stored in a dictionary at that index.</p>\n",
    "<p>I have spoken with H.E plesser over email concerning workong alone on this assignment</p>\n"
   ]
  },
  {
   "cell_type": "markdown",
   "metadata": {},
   "source": [
    "###Import"
   ]
  },
  {
   "cell_type": "code",
   "execution_count": 18,
   "metadata": {
    "collapsed": true
   },
   "outputs": [],
   "source": [
    "import random, numpy \n",
    "import matplotlib.pyplot as plt"
   ]
  },
  {
   "cell_type": "markdown",
   "metadata": {},
   "source": [
    "# Defining ladders and chutes\n",
    "<p>Defining the numerical positions of ladders and chutes.\n",
    "The first of each pair indicates the value(position) the ladder or chute starts at, the 2.nd value indicates the ladder or chutes ending point</p>"
   ]
  },
  {
   "cell_type": "code",
   "execution_count": 2,
   "metadata": {
    "collapsed": true
   },
   "outputs": [],
   "source": [
    "ladders = [(1, 40), (8, 10), (36, 52), (43, 62), (49, 79), (65, 82), (68, 85)]\n",
    "chutes = [(24, 5), (33, 3), (42, 30), (56, 37), (64, 27), (74, 12), (87, 70)]"
   ]
  },
  {
   "cell_type": "markdown",
   "metadata": {},
   "source": [
    "# The program itself"
   ]
  },
  {
   "cell_type": "code",
   "execution_count": 3,
   "metadata": {
    "collapsed": true
   },
   "outputs": [],
   "source": [
    "def single_game(num_players):\n",
    "    \"\"\"\n",
    "    Returns duration of single game.\n",
    "\n",
    "    :param num_players: number of players in game\n",
    "    :return: number of moves the winning player needed to reach the goal\n",
    "    \"\"\"\n",
    "    players = [{'player_no': number,\n",
    "                'current_position': 0,\n",
    "                'position_hist': [0]}\n",
    "               for number in range(num_players)]\n",
    "    winning = None\n",
    "    while True:\n",
    "        for player in range(num_players):\n",
    "            dice = random.randint(1, 6)\n",
    "            players[player]['current_position'] += dice\n",
    "            # Increments 'current position\n",
    "            for chute in chutes:\n",
    "                if players[player]['current_position'] == chute[0]:\n",
    "                    players[player]['current_position'] = chute[1]\n",
    "            for ladder in ladders:\n",
    "                if players[player]['current_position'] == ladder[0]:\n",
    "                    players[player]['current_position'] = ladder[1]\n",
    "            players[player]['position_hist'].append(players[player]\n",
    "                                                    ['current_position'])\n",
    "            current_pos = players[player]['current_position']\n",
    "            if current_pos >= 90:\n",
    "                winning = len(players[player]['position_hist'])\n",
    "                break\n",
    "        if winning is not None:\n",
    "            break\n",
    "    return winning\n",
    "\n",
    "\n",
    "def multiple_games(num_games, num_players):\n",
    "    \"\"\"\n",
    "    Returns durations of a number of games.\n",
    "\n",
    "    :param num_games: number of games to play\n",
    "    :param num_players: number of players in each game\n",
    "    :return: sequence with number of moves needed in each game\n",
    "    \"\"\"\n",
    "    return [(single_game(num_players)) for _ in range(num_games)]\n",
    "\n",
    "\n",
    "def multi_game_experiment(num_games, num_players, seed):\n",
    "    \"\"\"\n",
    "    Returns durations of a number of games when playing with given seed.\n",
    "\n",
    "    :param num_games: number of games to play\n",
    "    :param num_players: number of players in each game\n",
    "    :param seed: random number seed for experiment\n",
    "    :return: sequence with number of moves needed in each game\n",
    "    \"\"\"\n",
    "    random.seed(seed)\n",
    "    return multiple_games(num_games, num_players)  # (total_sequence of moves)\n"
   ]
  },
  {
   "cell_type": "markdown",
   "metadata": {},
   "source": [
    "#Running the simulation with 1 player"
   ]
  },
  {
   "cell_type": "markdown",
   "metadata": {},
   "source": [
    "###50 games"
   ]
  },
  {
   "cell_type": "code",
   "execution_count": 40,
   "metadata": {
    "collapsed": false
   },
   "outputs": [
    {
     "data": {
      "image/png": "[encoded data removed]",
      "text/plain": [
       "<matplotlib.figure.Figure at 0xc83d0b8>"
      ]
     },
     "metadata": {},
     "output_type": "display_data"
    }
   ],
   "source": [
    "plt.hist(multiple_games(50, 1), histtype='step')\n",
    "plt.xlabel('Number of moves')\n",
    "plt.ylabel('Frequency')\n",
    "plt.show()"
   ]
  },
  {
   "cell_type": "markdown",
   "metadata": {},
   "source": [
    "###100 games"
   ]
  },
  {
   "cell_type": "code",
   "execution_count": 41,
   "metadata": {
    "collapsed": false
   },
   "outputs": [
    {
     "data": {
      "image/png": "[encoded data removed]",
      "text/plain": [
       "<matplotlib.figure.Figure at 0xd457080>"
      ]
     },
     "metadata": {},
     "output_type": "display_data"
    }
   ],
   "source": [
    "plt.hist(multiple_games(100, 1), histtype='step')\n",
    "plt.xlabel('Number of moves')\n",
    "plt.ylabel('Frequency')\n",
    "plt.show()"
   ]
  },
  {
   "cell_type": "markdown",
   "metadata": {},
   "source": [
    "###1000 games"
   ]
  },
  {
   "cell_type": "code",
   "execution_count": 37,
   "metadata": {
    "collapsed": false
   },
   "outputs": [
    {
     "data": {
      "image/png": "[encoded data removed]",
      "text/plain": [
       "<matplotlib.figure.Figure at 0xbe74048>"
      ]
     },
     "metadata": {},
     "output_type": "display_data"
    }
   ],
   "source": [
    "plt.hist(multiple_games(1000, 1), histtype='step')\n",
    "plt.xlabel('Number of moves')\n",
    "plt.ylabel('Frequency')\n",
    "plt.show()"
   ]
  },
  {
   "cell_type": "markdown",
   "metadata": {},
   "source": [
    "#Running the simulation with 2 players"
   ]
  },
  {
   "cell_type": "markdown",
   "metadata": {},
   "source": [
    "###50 games"
   ]
  },
  {
   "cell_type": "code",
   "execution_count": 25,
   "metadata": {
    "collapsed": false
   },
   "outputs": [
    {
     "data": {
      "image/png": "[encoded data removed]",
      "text/plain": [
       "<matplotlib.figure.Figure at 0xbf7ff60>"
      ]
     },
     "metadata": {},
     "output_type": "display_data"
    }
   ],
   "source": [
    "plt.hist(multiple_games(50, 2), histtype='step')\n",
    "plt.xlabel('Number of moves')\n",
    "plt.ylabel('Frequency')\n",
    "plt.show()"
   ]
  },
  {
   "cell_type": "markdown",
   "metadata": {},
   "source": [
    "###100 games"
   ]
  },
  {
   "cell_type": "code",
   "execution_count": 36,
   "metadata": {
    "collapsed": false
   },
   "outputs": [
    {
     "data": {
      "image/png": "[encoded data removed]",
      "text/plain": [
       "<matplotlib.figure.Figure at 0xbe61198>"
      ]
     },
     "metadata": {},
     "output_type": "display_data"
    }
   ],
   "source": [
    "plt.hist(multiple_games(100, 2), histtype='step')\n",
    "plt.xlabel('Number of moves')\n",
    "plt.ylabel('Frequency')\n",
    "plt.show()"
   ]
  },
  {
   "cell_type": "markdown",
   "metadata": {},
   "source": [
    "###1000 games"
   ]
  },
  {
   "cell_type": "code",
   "execution_count": 35,
   "metadata": {
    "collapsed": false
   },
   "outputs": [
    {
     "data": {
      "image/png": "[encoded data removed]",
      "text/plain": [
       "<matplotlib.figure.Figure at 0xc8f2128>"
      ]
     },
     "metadata": {},
     "output_type": "display_data"
    }
   ],
   "source": [
    "plt.hist(multiple_games(1000, 2), histtype='step')\n",
    "plt.xlabel('Number of moves')\n",
    "plt.ylabel('Frequency')\n",
    "plt.show()"
   ]
  },
  {
   "cell_type": "markdown",
   "metadata": {},
   "source": [
    "#Running the simulation with 4 players"
   ]
  },
  {
   "cell_type": "markdown",
   "metadata": {},
   "source": [
    "###50 games"
   ]
  },
  {
   "cell_type": "code",
   "execution_count": 28,
   "metadata": {
    "collapsed": false
   },
   "outputs": [
    {
     "data": {
      "image/png": "[encoded data removed]",
      "text/plain": [
       "<matplotlib.figure.Figure at 0xc188f28>"
      ]
     },
     "metadata": {},
     "output_type": "display_data"
    }
   ],
   "source": [
    "plt.hist(multiple_games(50, 4), histtype='step')\n",
    "plt.xlabel('Number of moves')\n",
    "plt.ylabel('Frequency')\n",
    "plt.show()"
   ]
  },
  {
   "cell_type": "markdown",
   "metadata": {},
   "source": [
    "###100 games"
   ]
  },
  {
   "cell_type": "code",
   "execution_count": 29,
   "metadata": {
    "collapsed": false
   },
   "outputs": [
    {
     "data": {
      "image/png": "[encoded data removed]",
      "text/plain": [
       "<matplotlib.figure.Figure at 0xbfbd208>"
      ]
     },
     "metadata": {},
     "output_type": "display_data"
    }
   ],
   "source": [
    "plt.hist(multiple_games(100, 4), histtype='step')\n",
    "plt.xlabel('Number of moves')\n",
    "plt.ylabel('Frequency')\n",
    "plt.show()"
   ]
  },
  {
   "cell_type": "markdown",
   "metadata": {},
   "source": [
    "###1000 games"
   ]
  },
  {
   "cell_type": "code",
   "execution_count": 30,
   "metadata": {
    "collapsed": false
   },
   "outputs": [
    {
     "data": {
      "image/png": "[encoded data removed]",
      "text/plain": [
       "<matplotlib.figure.Figure at 0xd20b550>"
      ]
     },
     "metadata": {},
     "output_type": "display_data"
    }
   ],
   "source": [
    "plt.hist(multiple_games(1000, 4), histtype='step')\n",
    "plt.xlabel('Number of moves')\n",
    "plt.ylabel('Frequency')\n",
    "plt.show()"
   ]
  },
  {
   "cell_type": "markdown",
   "metadata": {},
   "source": [
    "#Running the simulation with 8 players"
   ]
  },
  {
   "cell_type": "markdown",
   "metadata": {},
   "source": [
    "###50 games"
   ]
  },
  {
   "cell_type": "code",
   "execution_count": 31,
   "metadata": {
    "collapsed": false
   },
   "outputs": [
    {
     "data": {
      "image/png": "[encoded data removed]",
      "text/plain": [
       "<matplotlib.figure.Figure at 0xc193240>"
      ]
     },
     "metadata": {},
     "output_type": "display_data"
    }
   ],
   "source": [
    "plt.hist(multiple_games(50, 8), histtype='step')\n",
    "plt.xlabel('Number of moves')\n",
    "plt.ylabel('Frequency')\n",
    "plt.show()"
   ]
  },
  {
   "cell_type": "markdown",
   "metadata": {},
   "source": [
    "###100 games"
   ]
  },
  {
   "cell_type": "code",
   "execution_count": 32,
   "metadata": {
    "collapsed": false
   },
   "outputs": [
    {
     "data": {
      "image/png": "[encoded data removed]",
      "text/plain": [
       "<matplotlib.figure.Figure at 0xc220978>"
      ]
     },
     "metadata": {},
     "output_type": "display_data"
    }
   ],
   "source": [
    "plt.hist(multiple_games(100, 8), histtype='step')\n",
    "plt.xlabel('Number of moves')\n",
    "plt.ylabel('Frequency')\n",
    "plt.show()"
   ]
  },
  {
   "cell_type": "markdown",
   "metadata": {},
   "source": [
    "###1000 games"
   ]
  },
  {
   "cell_type": "code",
   "execution_count": 42,
   "metadata": {
    "collapsed": false
   },
   "outputs": [
    {
     "data": {
      "image/png": "[encoded data removed]",
      "text/plain": [
       "<matplotlib.figure.Figure at 0xc42ed30>"
      ]
     },
     "metadata": {},
     "output_type": "display_data"
    }
   ],
   "source": [
    "plt.hist(multiple_games(1000, 8), histtype='step')\n",
    "plt.xlabel('Number of moves')\n",
    "plt.ylabel('Frequency')\n",
    "plt.show()"
   ]
  }
 ],
 "metadata": {
  "kernelspec": {
   "display_name": "Python 2",
   "language": "python",
   "name": "python2"
  },
  "language_info": {
   "codemirror_mode": {
    "name": "ipython",
    "version": 2
   },
   "file_extension": ".py",
   "mimetype": "text/x-python",
   "name": "python",
   "nbconvert_exporter": "python",
   "pygments_lexer": "ipython2",
   "version": "2.7.10"
  }
 },
 "nbformat": 4,
 "nbformat_minor": 0
}
