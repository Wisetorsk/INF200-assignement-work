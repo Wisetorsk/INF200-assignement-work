{
 "cells": [
  {
   "cell_type": "markdown",
   "metadata": {},
   "source": [
    "#Chutes simulation\n",
    "* Classbased simulation of chutes and ladders\n",
    "\n"
   ]
  },
  {
   "cell_type": "code",
<<<<<<< HEAD
   "execution_count": null,
=======
   "execution_count": 38,
>>>>>>> remotes/origin/PA02
   "metadata": {
    "collapsed": true
   },
   "outputs": [],
   "source": [
<<<<<<< HEAD
    "import random"
=======
    "%matplotlib inline\n",
    "import random\n",
    "import matplotlib.pyplot as plt"
>>>>>>> remotes/origin/PA02
   ]
  },
  {
   "cell_type": "markdown",
   "metadata": {},
   "source": [
    "##Board"
   ]
  },
  {
   "cell_type": "code",
<<<<<<< HEAD
   "execution_count": null,
=======
   "execution_count": 39,
>>>>>>> remotes/origin/PA02
   "metadata": {
    "collapsed": true
   },
   "outputs": [],
   "source": [
    "class Board(object):\n",
<<<<<<< HEAD
    "    \"\"\"\n",
    "    Represents game board.\n",
    "    \"\"\"\n",
    "\n",
    "    def __init__(self, \n",
    "                 ladders=[(1, 40), (8, 10), (36, 52), (43, 62), (49, 79), (65, 82), (68, 85)], \n",
    "                 chutes=[(24, 5), (33, 3), (42, 30), (56, 37), (64, 27), (74, 12), (87, 70)], \n",
    "                 goal=90):\n",
    "        \"\"\"\n",
    "        :param ladders: list of (start, end) tuples representing ladders\n",
    "        :param chutes: list of (start, end) tuples representing chutes\n",
    "        :param goal: destination square. (default 90)\n",
    "        \"\"\"\n",
    "        self._ladders = ladders\n",
    "        self._chutes = chutes\n",
    "        self._goal = goal\n",
    "\n",
    "    def goal_reached(self, player):\n",
    "        \"\"\"\n",
    "        Returns True if player has reached goal.\n",
    "\n",
    "        :param player: Player instance\n",
    "        \"\"\"\n",
    "        if player.\n",
    "        pass\n",
    "\n",
    "    def position_adjustment(self, position):\n",
    "        \"\"\"\n",
    "        Return change to position due to chute or ladder.\n",
    "\n",
    "        If the player is not at the start of a chute/ladder, it returns 0.\n",
    "\n",
    "        :param position: Player position\n",
    "        :returns: number of fields player must move to get to correct position\n",
    "        \"\"\"\n",
    "        for pair in self._ladders + self._chutes:\n",
    "            if pair[0] == position:\n",
    "                return pair[1]\n",
=======
    "\n",
    "    def __init__(self, ladders=None, chutes=None, goal=90):\n",
    "        self._goal = goal\n",
    "        if ladders is None:\n",
    "            self._ladders = [(1, 40), (8, 10), (36, 52), (43, 62), (49, 79),\n",
    "                             (65, 82), (68, 85)]\n",
    "        else:\n",
    "            self._ladders = ladders\n",
    "        if chutes is None:\n",
    "            self._chutes = [(24, 5), (33, 3), (42, 30), (56, 37),\n",
    "                            (64, 27), (74, 12), (87, 70)]\n",
    "        else:\n",
    "            self._chutes = chutes\n",
    "\n",
    "    def goal_reached(self, player):\n",
    "        return player.current_position >= self._goal\n",
    "\n",
    "    def position_adjustment(self, position):\n",
    "        for pair in self._ladders + self._chutes:\n",
    "            if pair[0] == position:\n",
    "                return pair[1] - position\n",
>>>>>>> remotes/origin/PA02
    "        return 0"
   ]
  },
  {
   "cell_type": "markdown",
   "metadata": {},
   "source": [
<<<<<<< HEAD
    "##Player"
=======
    "##Player\n",
    "- Player instance tracks position "
>>>>>>> remotes/origin/PA02
   ]
  },
  {
   "cell_type": "code",
<<<<<<< HEAD
   "execution_count": null,
=======
   "execution_count": 40,
>>>>>>> remotes/origin/PA02
   "metadata": {
    "collapsed": true
   },
   "outputs": [],
   "source": [
    "class Player(object):\n",
<<<<<<< HEAD
    "    \"\"\"\n",
    "    Implements single player.\n",
    "    \"\"\"\n",
    "\n",
    "    def __init__(self, board):\n",
    "        \"\"\"\n",
    "        :param board: board on which player is living\n",
    "        \"\"\"\n",
    "        pass\n",
    "\n",
    "    def move(self):\n",
    "        \"\"\"\n",
    "        Moves player to new position.\n",
    "        \"\"\"\n",
    "        dice = random.randint(1, 6)\n",
    "        board.position_adjustment(position)\n",
    "        pass"
=======
    "\n",
    "    def __init__(self, board):\n",
    "        self._board = board\n",
    "        self.current_position = 0\n",
    "        self.moves = 0\n",
    "\n",
    "    def move(self):\n",
    "        dice = random.randint(1, 6)\n",
    "        self.current_position += dice\n",
    "        self.current_position += \\\n",
    "            self._board.position_adjustment(self.current_position)\n",
    "        self.moves += 1"
>>>>>>> remotes/origin/PA02
   ]
  },
  {
   "cell_type": "markdown",
   "metadata": {},
   "source": [
    "##Resilient player"
   ]
  },
  {
   "cell_type": "code",
<<<<<<< HEAD
   "execution_count": null,
=======
   "execution_count": 41,
>>>>>>> remotes/origin/PA02
   "metadata": {
    "collapsed": true
   },
   "outputs": [],
   "source": [
    "class ResilientPlayer(Player):\n",
<<<<<<< HEAD
    "    \"\"\"\n",
    "    Implements a player who makes extra efforts after sliding down.\n",
    "\n",
    "    At the step after sliding down a slide, this player moves\n",
    "    extra_steps squares more than the result of the die cast\n",
    "    at the next move.\n",
    "    \"\"\"\n",
    "\n",
    "    def __init__(self, board, extra_steps=1):\n",
    "        \"\"\"\n",
    "        :param extra_steps: number of extra steps on move after sliding down\n",
    "        \"\"\"\n",
    "\n",
    "        pass\n",
    "\n",
    "    def move(self):\n",
    "        dice = random.randint(1, 6)\n",
    "        pass"
=======
    "\n",
    "    def __init__(self, board, extra_steps=1):\n",
    "        super(Player, self).__init__()  # self, board\n",
    "        self.current_position = 0\n",
    "        self._board = board\n",
    "        self._extra = extra_steps\n",
    "        self.moves = 0\n",
    "\n",
    "    def move(self):\n",
    "        dice = random.randint(1, 6)\n",
    "        self.current_position += dice\n",
    "        before_chute = self.current_position\n",
    "        self.current_position += \\\n",
    "            self._board.position_adjustment(self.current_position)\n",
    "        after_chute = self.current_position\n",
    "        if after_chute - before_chute < 0:\n",
    "            self.current_position += self._extra\n",
    "        self.moves += 1"
>>>>>>> remotes/origin/PA02
   ]
  },
  {
   "cell_type": "markdown",
   "metadata": {},
   "source": [
    "##Lazy player"
   ]
  },
  {
   "cell_type": "code",
<<<<<<< HEAD
   "execution_count": null,
=======
   "execution_count": 42,
>>>>>>> remotes/origin/PA02
   "metadata": {
    "collapsed": true
   },
   "outputs": [],
   "source": [
    "class LazyPlayer(Player):\n",
<<<<<<< HEAD
    "    \"\"\"\n",
    "    Implements a player who makes a lesser effort after climbing up.\n",
    "\n",
    "    At the step after climbing a slide, this player moves\n",
    "    dropped_steps squares less than the result of the die cast\n",
    "    at the next move (but never backward).\n",
    "    \"\"\"\n",
    "\n",
    "    def __init__(self, board, dropped_steps=1):\n",
    "        \"\"\"\n",
    "        :param dropped_steps: number of steps dropped after climbing up\n",
    "        \"\"\"\n",
    "\n",
    "        pass\n",
    "\n",
    "    def move(self):\n",
    "        dice = random.randint(1, 6)\n",
    "        pass"
=======
    "\n",
    "    def __init__(self, board, dropped_steps=1):\n",
    "        super(Player, self).__init__()  # self, board\n",
    "        self._dropped = dropped_steps\n",
    "        self._board = board\n",
    "        self.moves = 0\n",
    "        self.current_position = 0\n",
    "\n",
    "    def move(self):\n",
    "        dice = random.randint(1, 6)\n",
    "        self.current_position += dice\n",
    "        before_ladder = self.current_position\n",
    "        self.current_position += \\\n",
    "            self._board.position_adjustment(self.current_position)\n",
    "        after_ladder = self.current_position\n",
    "\n",
    "        if after_ladder - before_ladder > 0:\n",
    "            self.current_position -= self._dropped\n",
    "        self.moves += 1"
>>>>>>> remotes/origin/PA02
   ]
  },
  {
   "cell_type": "markdown",
   "metadata": {},
   "source": [
<<<<<<< HEAD
    "##Simulation"
=======
    "##Simulation\n",
    "- Keeps track over what type of player each player instance is"
>>>>>>> remotes/origin/PA02
   ]
  },
  {
   "cell_type": "code",
<<<<<<< HEAD
   "execution_count": null,
=======
   "execution_count": 43,
>>>>>>> remotes/origin/PA02
   "metadata": {
    "collapsed": true
   },
   "outputs": [],
   "source": [
    "class Simulation(object):\n",
<<<<<<< HEAD
    "    \"\"\"\n",
    "    Implements a complete Chutes & Ladders simulation.\n",
    "    \"\"\"\n",
    "\n",
    "    def __init__(self, player_field, board=None, seed=1234567,\n",
    "                 randomize_players=False):\n",
    "        \"\"\"\n",
    "        :param player_field: list of player classes, one per player to use\n",
    "        :param board: Board instance (default: standard board)\n",
    "        :param seed: random generator seed\n",
    "        :param randomize_players: randomize player order at start of game\n",
    "        \"\"\"\n",
    "        pass\n",
    "\n",
    "    def single_game(self):\n",
    "        \"\"\"\n",
    "        Returns winner type and number of steps for single game.\n",
    "\n",
    "        :returns: (number_of_steps, winner_class) tuple\n",
    "        \"\"\"\n",
    "\n",
    "        pass\n",
    "\n",
    "    def run_simulation(self, num_games):\n",
    "        \"\"\"\n",
    "        Run a set of games, store results in Simulation.\n",
    "\n",
    "        If results exist from before, new data will be added to existing data.\n",
    "\n",
    "        :param num_games: number of games to play\n",
    "        \"\"\"\n",
    "\n",
    "        pass\n",
    "\n",
    "    def players_per_type(self):\n",
    "        \"\"\"\n",
    "        Returns a dict mapping player classes to number of players.\n",
    "        \"\"\"\n",
    "\n",
    "        pass\n",
    "\n",
    "    def winners_per_type(self):\n",
    "        \"\"\"\n",
    "        Returns dict showing number of winners for each type of player.\n",
    "        \"\"\"\n",
    "\n",
    "        pass\n",
    "\n",
    "    def durations_per_type(self):\n",
    "        \"\"\"\n",
    "        Returns dict mapping winner type to list of game durations for type.\n",
    "        \"\"\"\n",
    "\n",
    "        pass"
=======
    "\n",
    "    def __init__(self, player_field, board=Board(), seed=1234567,\n",
    "                 randomize_players=False):\n",
    "        self._seed = seed\n",
    "        self._board = board\n",
    "        self._randomize_players = randomize_players\n",
    "        self._player_field = player_field\n",
    "        self._outcomes = {'LazyPlayer': {'wins': 0, 'moves': []},\n",
    "                          'ResilientPlayer': {'wins': 0, 'moves': []},\n",
    "                          'Player': {'wins': 0, 'moves': []}}\n",
    "\n",
    "    def single_game(self):\n",
    "        players = [pl(self._board) for pl in self._player_field]\n",
    "        if self._randomize_players:\n",
    "            random.shuffle(players)\n",
    "\n",
    "        while True:\n",
    "            for player in players:\n",
    "                player.move()\n",
    "                if self._board.goal_reached(player):\n",
    "                    a = (player.moves, player.__class__.__name__)\n",
    "                    return a\n",
    "\n",
    "    def run_simulation(self, num_games):\n",
    "        if self._seed is not None:\n",
    "            random.seed(self._seed)\n",
    "\n",
    "        for _ in range(num_games):\n",
    "            outcome = self.single_game()\n",
    "            self._outcomes[outcome[1]]['wins'] += 1\n",
    "            self._outcomes[outcome[1]]['moves'].append(outcome[0])\n",
    "            # .append() throws error, ignored\n",
    "\n",
    "    def players_per_type(self):\n",
    "        out = {'LazyPlayer': 0, 'ResilientPlayer': 0, 'Player': 0}\n",
    "        for p in self._player_field:\n",
    "            out[p.__name__] += 1\n",
    "        return out\n",
    "\n",
    "    def winners_per_type(self):\n",
    "        out = {'LazyPlayer': 0, 'ResilientPlayer': 0, 'Player': 0}\n",
    "        for p in out:\n",
    "            out[p] = self._outcomes[p]['wins']\n",
    "        return out\n",
    "\n",
    "    def durations_per_type(self):\n",
    "        out = {'LazyPlayer': 0, 'ResilientPlayer': 0, 'Player': 0}\n",
    "        for p in out:\n",
    "            out[p] = self._outcomes[p]['moves']\n",
    "        return out"
>>>>>>> remotes/origin/PA02
   ]
  },
  {
   "cell_type": "markdown",
   "metadata": {},
   "source": [
    "##Main"
   ]
  },
  {
   "cell_type": "code",
<<<<<<< HEAD
   "execution_count": null,
   "metadata": {
    "collapsed": true
   },
   "outputs": [],
   "source": [
    "if __name__ == '__main__':\n",
    "    # The following code should work (and print something else than None)\n",
    "\n",
=======
   "execution_count": 44,
   "metadata": {
    "collapsed": false
   },
   "outputs": [
    {
     "name": "stdout",
     "output_type": "stream",
     "text": [
      "**** First Simulation: Single player, standard board ****\n",
      "(15, 'Player')\n",
      "{'ResilientPlayer': 0, 'LazyPlayer': 0, 'Player': 1}\n",
      "{'ResilientPlayer': 0, 'LazyPlayer': 0, 'Player': 10}\n",
      "{'ResilientPlayer': [], 'LazyPlayer': [], 'Player': [23, 54, 73, 5, 47, 52, 21, 32, 27, 60]}\n",
      "\n",
      "**** Second Simulation: Four players, standard board ****\n",
      "(4, 'Player')\n",
      "{'ResilientPlayer': 1, 'LazyPlayer': 1, 'Player': 2}\n",
      "{'ResilientPlayer': 0, 'LazyPlayer': 4, 'Player': 6}\n",
      "{'ResilientPlayer': [], 'LazyPlayer': [6, 21, 24, 14], 'Player': [28, 16, 12, 18, 22, 21]}\n",
      "\n",
      "**** Third Simulation: Four players, small board ****\n",
      "(4, 'Player')\n",
      "{'ResilientPlayer': 1, 'LazyPlayer': 1, 'Player': 2}\n",
      "{'ResilientPlayer': 3, 'LazyPlayer': 3, 'Player': 4}\n",
      "{'ResilientPlayer': [5, 5, 3], 'LazyPlayer': [4, 4, 5], 'Player': [4, 5, 5, 5]}\n"
     ]
    }
   ],
   "source": [
    "if __name__ == '__main__':\n",
>>>>>>> remotes/origin/PA02
    "    print '**** First Simulation: Single player, standard board ****'\n",
    "    sim = Simulation([Player])\n",
    "    print sim.single_game()\n",
    "    sim.run_simulation(10)\n",
    "    print sim.players_per_type()\n",
    "    print sim.winners_per_type()\n",
    "    print sim.durations_per_type()\n",
    "\n",
    "    print '\\n**** Second Simulation: Four players, standard board ****'\n",
    "    sim = Simulation([Player, Player, LazyPlayer, ResilientPlayer])\n",
    "    print sim.single_game()\n",
    "    sim.run_simulation(10)\n",
    "    print sim.players_per_type()\n",
    "    print sim.winners_per_type()\n",
    "    print sim.durations_per_type()\n",
    "\n",
    "    print '\\n**** Third Simulation: Four players, small board ****'\n",
    "    my_board = Board(ladders=[(3, 10), (5, 8)], chutes=[(9, 2)], goal=20)\n",
    "    sim = Simulation([Player, Player, LazyPlayer, ResilientPlayer],\n",
    "                     board=my_board)\n",
    "    print sim.single_game()\n",
    "    sim.run_simulation(10)\n",
    "    print sim.players_per_type()\n",
    "    print sim.winners_per_type()\n",
<<<<<<< HEAD
    "    print sim.durations_per_type()\n"
   ]
=======
    "    print sim.durations_per_type()"
   ]
  },
  {
   "cell_type": "markdown",
   "metadata": {},
   "source": [
    "#Plotting results\n",
    "- simulations\n",
    "    - All simulations are done with three or four players\n",
    "    - Ten rounds are played per simulation\n",
    "    - Different boards and goal parameters"
   ]
  },
  {
   "cell_type": "markdown",
   "metadata": {},
   "source": [
    "##Different boards"
   ]
  },
  {
   "cell_type": "code",
   "execution_count": 45,
   "metadata": {
    "collapsed": true
   },
   "outputs": [],
   "source": [
    "long_board = Board(ladders=[(1, 40), (8, 10), (36, 52), (43, 62), (49, 79),\n",
    "                             (65, 82), (68, 85)], chutes=[(24, 5), (33, 3), (42, 30), (56, 37),\n",
    "                            (64, 27), (74, 12), (87, 70)], goal=120)\n",
    "short_board = Board(ladders=[(2, 15), (6, 20), (8, 12), (20, 35)], chutes=[(24, 5), (33, 3), (39, 1)], goal=40)"
   ]
  },
  {
   "cell_type": "markdown",
   "metadata": {},
   "source": [
    "## Function to simplify the process of analysing and printing data"
   ]
  },
  {
   "cell_type": "code",
   "execution_count": 164,
   "metadata": {
    "collapsed": true
   },
   "outputs": [],
   "source": [
    "def display_duration_data(data):\n",
    "    fig, axes = plt.subplots(3, 1)\n",
    "    fig.tight_layout()\n",
    "    plt.subplots_adjust(hspace=1)\n",
    "    names = ['Player', 'LazyPlayer', 'ResilientPlayer']\n",
    "    averages = []\n",
    "    maximum = []\n",
    "    minimum = []\n",
    "    for name in names:\n",
    "        if len(data[name]) != 0:\n",
    "            averages.append(sum(data[name])/float(len(data[name]))) \n",
    "            maximum.append(max(data[name]))\n",
    "            minimum.append(min(data[name]))\n",
    "        else:\n",
    "            averages.append(None)\n",
    "            maximum.append(None)\n",
    "            minimum.append(None)\n",
    "    ind = 0\n",
    "    for name in names:\n",
    "        print 'Average moves taken by {:15}: {} \\nMax: {:4} \\nMin: {:4}'.format(name, averages[ind], maximum[ind], minimum[ind])\n",
    "        ind += 1\n",
    "    \n",
    "    if len(data['LazyPlayer']) == 0:\n",
    "        plt.subplot(311)\n",
    "        plt.title('Lazy')\n",
    "        plt.xlabel('Durations')\n",
    "        plt.grid()\n",
    "        plt.plot([]) # \"Empty\" list to not break plt.()\n",
    "    elif len(data['LazyPlayer']) == 1:\n",
    "        plt.subplot(311)\n",
    "        plt.title('Lazy')\n",
    "        plt.ylabel('Durations')\n",
    "        plt.grid()\n",
    "        plt.plot(1, data['LazyPlayer'], 'or') # Plots the single entry\n",
    "    else:\n",
    "        plt.subplot(311)\n",
    "        plt.title('Lazy')\n",
    "        plt.xlabel('Durations')\n",
    "        plt.grid()\n",
    "        plt.hist(data['LazyPlayer'])\n",
    "        \n",
    "    if len(data['ResilientPlayer']) == 0:\n",
    "        plt.subplot(312)\n",
    "        plt.title('Resilient')\n",
    "        plt.xlabel('Durations')\n",
    "        plt.grid()\n",
    "        plt.plot([])\n",
    "    elif len(data['ResilientPlayer']) == 1:\n",
    "        plt.subplot(312)\n",
    "        plt.title('Resilient')\n",
    "        plt.ylabel('Durations')\n",
    "        plt.grid()\n",
    "        plt.plot(1, data['ResilientPlayer'], 'or')\n",
    "    else:\n",
    "        resilient = data['ResilientPlayer']\n",
    "        plt.subplot(312)\n",
    "        plt.title('Resilient')\n",
    "        plt.xlabel('Durations')\n",
    "        plt.grid()\n",
    "        plt.hist(resilient)\n",
    "        \n",
    "    if len(data['Player']) == 0:\n",
    "        plt.subplot(313)\n",
    "        plt.title('Normal')\n",
    "        plt.xlabel('Durations')\n",
    "        plt.grid()\n",
    "        plt.plot([])\n",
    "    elif len(data['Player']) == 1:\n",
    "        plt.subplot(313)\n",
    "        plt.title('Normal')\n",
    "        plt.ylabel('Durations')\n",
    "        plt.grid()\n",
    "        plt.plot(1, data['Player'], 'or')\n",
    "    else:\n",
    "        normalplayer = data['Player']\n",
    "        plt.subplot(313)\n",
    "        plt.title('Normal')\n",
    "        plt.xlabel('Durations')\n",
    "        plt.grid()\n",
    "        plt.hist(normalplayer)"
   ]
  },
  {
   "cell_type": "markdown",
   "metadata": {},
   "source": [
    "###Four players, all Normal player class"
   ]
  },
  {
   "cell_type": "markdown",
   "metadata": {},
   "source": [
    "<u>Normal board</u>"
   ]
  },
  {
   "cell_type": "code",
   "execution_count": 165,
   "metadata": {
    "collapsed": false
   },
   "outputs": [
    {
     "name": "stdout",
     "output_type": "stream",
     "text": [
      "Average moves taken by Player         : 18.9 \n",
      "Max:   28 \n",
      "Min:    6\n",
      "Average moves taken by LazyPlayer     : None \n",
      "Max: None \n",
      "Min: None\n",
      "Average moves taken by ResilientPlayer: None \n",
      "Max: None \n",
      "Min: None\n"
     ]
    },
    {
     "data": {
      "image/png": "iVBORw0KGgoAAAANSUhEUgAAAboAAAEzCAYAAABHSMaVAAAABHNCSVQICAgIfAhkiAAAAAlwSFlz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\n0/4/IKJrjHEqSKkAAAAASUVORK5CYII=\n",
      "text/plain": [
       "<matplotlib.figure.Figure at 0xe1524e0>"
      ]
     },
     "metadata": {},
     "output_type": "display_data"
    }
   ],
   "source": [
    "sim = Simulation([Player, Player, Player, Player])\n",
    "sim.run_simulation(10)\n",
    "winners = sim.winners_per_type()\n",
    "durations = sim.durations_per_type()\n",
    "display_duration_data(durations)\n"
   ]
  },
  {
   "cell_type": "markdown",
   "metadata": {},
   "source": [
    "<u>Short board</u>"
   ]
  },
  {
   "cell_type": "code",
   "execution_count": 166,
   "metadata": {
    "collapsed": false
   },
   "outputs": [
    {
     "name": "stdout",
     "output_type": "stream",
     "text": [
      "Average moves taken by Player         : 6.9 \n",
      "Max:   11 \n",
      "Min:    6\n",
      "Average moves taken by LazyPlayer     : None \n",
      "Max: None \n",
      "Min: None\n",
      "Average moves taken by ResilientPlayer: None \n",
      "Max: None \n",
      "Min: None\n"
     ]
    },
    {
     "data": {
      "image/png": "iVBORw0KGgoAAAANSUhEUgAAAboAAAEzCAYAAABHSMaVAAAABHNCSVQICAgIfAhkiAAAAAlwSFlz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\nrQAI92tVGAAAAABJRU5ErkJggg==\n",
      "text/plain": [
       "<matplotlib.figure.Figure at 0x111f2470>"
      ]
     },
     "metadata": {},
     "output_type": "display_data"
    }
   ],
   "source": [
    "sim = Simulation([Player, Player, Player, Player], board=short_board)\n",
    "sim.run_simulation(10)\n",
    "winners = sim.winners_per_type()\n",
    "durations = sim.durations_per_type()\n",
    "display_duration_data(durations)"
   ]
  },
  {
   "cell_type": "markdown",
   "metadata": {},
   "source": [
    "<u>Long board</u>"
   ]
  },
  {
   "cell_type": "code",
   "execution_count": 155,
   "metadata": {
    "collapsed": false
   },
   "outputs": [
    {
     "name": "stdout",
     "output_type": "stream",
     "text": [
      "Average moves taken by Player         : 29.5 \n",
      "Max:   45 \n",
      "Min:   23\n",
      "Average moves taken by LazyPlayer     : None \n",
      "Max: None \n",
      "Min: None\n",
      "Average moves taken by ResilientPlayer: None \n",
      "Max: None \n",
      "Min: None\n"
     ]
    },
    {
     "data": {
      "image/png": "iVBORw0KGgoAAAANSUhEUgAAAboAAAEzCAYAAABHSMaVAAAABHNCSVQICAgIfAhkiAAAAAlwSFlz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\n+//LiooG1izXBgAAAABJRU5ErkJggg==\n",
      "text/plain": [
       "<matplotlib.figure.Figure at 0x1110f0f0>"
      ]
     },
     "metadata": {},
     "output_type": "display_data"
    }
   ],
   "source": [
    "sim = Simulation([Player, Player, Player, Player], board=long_board)\n",
    "sim.run_simulation(10)\n",
    "winners = sim.winners_per_type()\n",
    "durations = sim.durations_per_type()\n",
    "display_duration_data(durations)"
   ]
  },
  {
   "cell_type": "markdown",
   "metadata": {},
   "source": [
    "##THREE Players Different classes"
   ]
  },
  {
   "cell_type": "markdown",
   "metadata": {},
   "source": [
    "<u>Normal board</u>"
   ]
  },
  {
   "cell_type": "code",
   "execution_count": 161,
   "metadata": {
    "collapsed": false
   },
   "outputs": [
    {
     "name": "stdout",
     "output_type": "stream",
     "text": [
      "Average moves taken by Player         : 21.0 \n",
      "Max:   26 \n",
      "Min:   10\n",
      "Average moves taken by LazyPlayer     : 17.25 \n",
      "Max:   23 \n",
      "Min:   12\n",
      "Average moves taken by ResilientPlayer: 19.0 \n",
      "Max:   23 \n",
      "Min:   15\n"
     ]
    },
    {
     "data": {
      "image/png": "iVBORw0KGgoAAAANSUhEUgAAAacAAAEzCAYAAACVGMzNAAAABHNCSVQICAgIfAhkiAAAAAlwSFlz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\n",
      "text/plain": [
       "<matplotlib.figure.Figure at 0xe6a9f60>"
      ]
     },
     "metadata": {},
     "output_type": "display_data"
    }
   ],
   "source": [
    "sim = Simulation([Player, ResilientPlayer, LazyPlayer])\n",
    "sim.run_simulation(10)\n",
    "winners = sim.winners_per_type()\n",
    "durations = sim.durations_per_type()\n",
    "display_duration_data(durations)"
   ]
  },
  {
   "cell_type": "markdown",
   "metadata": {},
   "source": [
    "<u>Short board</u>"
   ]
  },
  {
   "cell_type": "code",
   "execution_count": 162,
   "metadata": {
    "collapsed": false
   },
   "outputs": [
    {
     "name": "stdout",
     "output_type": "stream",
     "text": [
      "Average moves taken by Player         : 7.66666666667 \n",
      "Max:   11 \n",
      "Min:    4\n",
      "Average moves taken by LazyPlayer     : 8.5 \n",
      "Max:   12 \n",
      "Min:    5\n",
      "Average moves taken by ResilientPlayer: 9.5 \n",
      "Max:   12 \n",
      "Min:    7\n"
     ]
    },
    {
     "data": {
      "image/png": "iVBORw0KGgoAAAANSUhEUgAAAaYAAAEzCAYAAAB62qfzAAAABHNCSVQICAgIfAhkiAAAAAlwSFlz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\nqJX/H2rXqveqkxJhAAAAAElFTkSuQmCC\n",
      "text/plain": [
       "<matplotlib.figure.Figure at 0xf0c32e8>"
      ]
     },
     "metadata": {},
     "output_type": "display_data"
    }
   ],
   "source": [
    "sim = Simulation([Player, ResilientPlayer, LazyPlayer], board=short_board)\n",
    "sim.run_simulation(10)\n",
    "winners = sim.winners_per_type()\n",
    "durations = sim.durations_per_type()\n",
    "display_duration_data(durations)"
   ]
  },
  {
   "cell_type": "markdown",
   "metadata": {},
   "source": [
    "<u>Long board</u>"
   ]
  },
  {
   "cell_type": "code",
   "execution_count": 168,
   "metadata": {
    "collapsed": false
   },
   "outputs": [
    {
     "name": "stdout",
     "output_type": "stream",
     "text": [
      "Average moves taken by Player         : 23.0 \n",
      "Max:   23 \n",
      "Min:   23\n",
      "Average moves taken by LazyPlayer     : 38.0 \n",
      "Max:   60 \n",
      "Min:   27\n",
      "Average moves taken by ResilientPlayer: 33.8 \n",
      "Max:   46 \n",
      "Min:   26\n"
     ]
    },
    {
     "data": {
      "image/png": "iVBORw0KGgoAAAANSUhEUgAAAcEAAAEkCAYAAABXMorZAAAABHNCSVQICAgIfAhkiAAAAAlwSFlz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\njZVGMCIiGuv/Byterp+Wx0dMAAAAAElFTkSuQmCC\n",
      "text/plain": [
       "<matplotlib.figure.Figure at 0xed17320>"
      ]
     },
     "metadata": {},
     "output_type": "display_data"
    }
   ],
   "source": [
    "sim = Simulation([Player, ResilientPlayer, LazyPlayer], board=long_board)\n",
    "sim.run_simulation(10)\n",
    "winners = sim.winners_per_type()\n",
    "durations = sim.durations_per_type()\n",
    "display_duration_data(durations)"
   ]
  },
  {
   "cell_type": "code",
   "execution_count": null,
   "metadata": {
    "collapsed": true
   },
   "outputs": [],
   "source": []
>>>>>>> remotes/origin/PA02
  }
 ],
 "metadata": {
  "kernelspec": {
   "display_name": "Python 2",
   "language": "python",
   "name": "python2"
  },
  "language_info": {
   "codemirror_mode": {
    "name": "ipython",
    "version": 2
   },
   "file_extension": ".py",
   "mimetype": "text/x-python",
   "name": "python",
   "nbconvert_exporter": "python",
   "pygments_lexer": "ipython2",
   "version": "2.7.10"
  }
 },
 "nbformat": 4,
 "nbformat_minor": 0
}
